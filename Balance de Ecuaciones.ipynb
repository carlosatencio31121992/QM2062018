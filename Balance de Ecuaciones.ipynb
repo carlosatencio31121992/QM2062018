{
 "cells": [
  {
   "cell_type": "code",
   "execution_count": 27,
   "metadata": {},
   "outputs": [],
   "source": [
    "import numpy as np"
   ]
  },
  {
   "cell_type": "code",
   "execution_count": 28,
   "metadata": {
    "scrolled": true
   },
   "outputs": [
    {
     "ename": "SyntaxError",
     "evalue": "invalid syntax (<ipython-input-28-29c99fb3a9e6>, line 1)",
     "output_type": "error",
     "traceback": [
      "\u001b[0;36m  File \u001b[0;32m\"<ipython-input-28-29c99fb3a9e6>\"\u001b[0;36m, line \u001b[0;32m1\u001b[0m\n\u001b[0;31m    mat=np.array([[2,1,0,].[1,0,-1,],[4,1,-4,],[0,1,-2,]])\u001b[0m\n\u001b[0m                           ^\u001b[0m\n\u001b[0;31mSyntaxError\u001b[0m\u001b[0;31m:\u001b[0m invalid syntax\n"
     ]
    }
   ],
   "source": [
    "mat=np.array([[2,1,0,].[1,0,-1,],[4,1,-4,],[0,1,-2,]])\n",
    "y=np.array([2,0,1,0])\n",
    "x=np.linalg.lstsq(mat,y,rcond=None)[0]\n",
    "print(x)\n",
    "x=[0.5,1,0.5]\n",
    "c=sum(x*mat[0])/y[2]\n",
    "print(\"c=%f\"%c)"
   ]
  },
  {
   "cell_type": "markdown",
   "metadata": {},
   "source": [
    "   # Balance de Ecuaciones #\n",
    "$FeSO_4 + KMnO_4 + H_2SO_4   ---->   Fe_2(SO_4)_3 + MnSO_4 + K_2SO_4 + H_2O$"
   ]
  },
  {
   "cell_type": "code",
   "execution_count": 22,
   "metadata": {},
   "outputs": [
    {
     "name": "stdout",
     "output_type": "stream",
     "text": [
      "[1.25  0.25  1.    0.625 0.25  0.125]\n",
      "c=1.000000\n"
     ]
    }
   ],
   "source": [
    "mat=np.array([[1,0,0,-2,0,0],[1,0,1,-3,-1,-1],[4,4,4,-12,-4,-4],[0,1,0,0,0,-2],[0,1,0,0,-1,0],[0,0,2,0,0,0]])\n",
    "y=np.array([0,0,1,0,0,2])\n",
    "x=np.linalg.lstsq(mat,y,rcond=None)[0]\n",
    "print(x)\n",
    "c=sum(x*mat[2])/y[2]\n",
    "print(\"c=%f\"%c)"
   ]
  },
  {
   "cell_type": "code",
   "execution_count": null,
   "metadata": {},
   "outputs": [],
   "source": []
  }
 ],
 "metadata": {
  "kernelspec": {
   "display_name": "Python 3",
   "language": "python",
   "name": "python3"
  },
  "language_info": {
   "codemirror_mode": {
    "name": "ipython",
    "version": 3
   },
   "file_extension": ".py",
   "mimetype": "text/x-python",
   "name": "python",
   "nbconvert_exporter": "python",
   "pygments_lexer": "ipython3",
   "version": "3.6.5"
  }
 },
 "nbformat": 4,
 "nbformat_minor": 2
}
